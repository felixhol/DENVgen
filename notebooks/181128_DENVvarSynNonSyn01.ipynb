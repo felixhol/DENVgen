{
 "cells": [
  {
   "cell_type": "code",
   "execution_count": 1,
   "metadata": {},
   "outputs": [],
   "source": [
    "'''\n",
    "author:     Felix Hol\n",
    "date:       28 Nov 2018\n",
    "content:    Synonymous vs. non-synonymous SNV analysis of DENV single cell data\n",
    "'''\n",
    "\n",
    "from pysam import VariantFile\n",
    "import pandas as pd\n",
    "import matplotlib.pyplot as plt\n",
    "import os\n",
    "import glob\n",
    "import numpy as np\n",
    "from scipy.optimize import curve_fit\n",
    "from scipy.misc import factorial\n",
    "import scipy\n",
    "from scipy import stats\n",
    "import Bio\n",
    "from Bio import SeqIO\n",
    "from Bio.Data import CodonTable\n",
    "import warnings\n",
    "warnings.filterwarnings(action='once')\n",
    "standard_table = CodonTable.unambiguous_dna_by_name[\"Standard\"]"
   ]
  },
  {
   "cell_type": "code",
   "execution_count": 2,
   "metadata": {},
   "outputs": [],
   "source": [
    "%store -r metadataD\n",
    "%store -r depth_df48\n",
    "%store -r depth_df24\n",
    "%store -r depth_df12\n",
    "%store -r depth_df48_2\n",
    "%store -r depth_df24_2\n",
    "%store -r depth_df12_2\n",
    "%store -r depth_df4_2\n",
    "%store -r SNVp"
   ]
  },
  {
   "cell_type": "code",
   "execution_count": 3,
   "metadata": {},
   "outputs": [
    {
     "name": "stdout",
     "output_type": "stream",
     "text": [
      "Table 1 Standard, SGC0\n",
      "\n",
      "  |  T      |  C      |  A      |  G      |\n",
      "--+---------+---------+---------+---------+--\n",
      "T | TTT F   | TCT S   | TAT Y   | TGT C   | T\n",
      "T | TTC F   | TCC S   | TAC Y   | TGC C   | C\n",
      "T | TTA L   | TCA S   | TAA Stop| TGA Stop| A\n",
      "T | TTG L(s)| TCG S   | TAG Stop| TGG W   | G\n",
      "--+---------+---------+---------+---------+--\n",
      "C | CTT L   | CCT P   | CAT H   | CGT R   | T\n",
      "C | CTC L   | CCC P   | CAC H   | CGC R   | C\n",
      "C | CTA L   | CCA P   | CAA Q   | CGA R   | A\n",
      "C | CTG L(s)| CCG P   | CAG Q   | CGG R   | G\n",
      "--+---------+---------+---------+---------+--\n",
      "A | ATT I   | ACT T   | AAT N   | AGT S   | T\n",
      "A | ATC I   | ACC T   | AAC N   | AGC S   | C\n",
      "A | ATA I   | ACA T   | AAA K   | AGA R   | A\n",
      "A | ATG M(s)| ACG T   | AAG K   | AGG R   | G\n",
      "--+---------+---------+---------+---------+--\n",
      "G | GTT V   | GCT A   | GAT D   | GGT G   | T\n",
      "G | GTC V   | GCC A   | GAC D   | GGC G   | C\n",
      "G | GTA V   | GCA A   | GAA E   | GGA G   | A\n",
      "G | GTG V   | GCG A   | GAG E   | GGG G   | G\n",
      "--+---------+---------+---------+---------+--\n"
     ]
    }
   ],
   "source": [
    "aaDict = standard_table.forward_table\n",
    "print(standard_table)"
   ]
  },
  {
   "cell_type": "code",
   "execution_count": 4,
   "metadata": {},
   "outputs": [],
   "source": [
    "def synNonSyn (varF, start, stop):\n",
    "    \n",
    "    numSyn = 0\n",
    "    numNonSyn = 0\n",
    "    numStop = 0\n",
    "    startPos = 96 ### subtract 1 of real startPos as python is base 0\n",
    "    aaDict = standard_table.forward_table\n",
    "    startMin1 = start - 1\n",
    "    stopMin1 = stop - 1\n",
    "\n",
    "    for seqD in SeqIO.parse(\"/Users/felix/Documents/arbovirusGenetics/DENV_ZIKV_singelCell/pySamProcessing/DENV2.fasta\", \"fasta\"):\n",
    "        seqD.seq\n",
    "\n",
    "### full ORF 96 - 10274\n",
    "    \n",
    "    for rec in varF.fetch() or []:\n",
    "#         print(rec.pos)\n",
    "        if rec.pos > startMin1 and rec.pos < stopMin1 and rec.pos not in SNVp.pos.values:\n",
    "            if (rec.pos - startPos) % 3 == 1:\n",
    "                refCodon = seqD.seq[rec.pos-1 : rec.pos+2]\n",
    "                altCodon = rec.alts[0] + refCodon[1:3]\n",
    "            elif (rec.pos - startPos) % 3 == 2:\n",
    "                refCodon = seqD.seq[rec.pos-2 : rec.pos+1]\n",
    "                altCodon = refCodon[0] + rec.alts[0] + refCodon[2]\n",
    "            elif (rec.pos - startPos) % 3 == 0:\n",
    "                refCodon = seqD.seq[rec.pos-3 : rec.pos]\n",
    "                altCodon = refCodon[0:2] + rec.alts[0]\n",
    "            else:\n",
    "                print('congrats, you made a new codon')\n",
    "                \n",
    "            if refCodon[0:3] == 'TAA' or refCodon[0:3] == 'TAG' or refCodon[0:3] == 'TGA':\n",
    "                print('I cant believe it, a stop codon in the middel of the coding sequence', rec.pos)\n",
    "\n",
    "            if altCodon[0:3] != 'TAA' and altCodon[0:3] != 'TAG' and altCodon[0:3] !=  'TGA':\n",
    "                if aaDict[refCodon[0:3]] == aaDict[altCodon[0:3]]:\n",
    "                    numSyn = numSyn + 1\n",
    "                elif aaDict[refCodon[0:3]] != aaDict[altCodon[0:3]]:\n",
    "                    numNonSyn = numNonSyn + 1\n",
    "                else:\n",
    "                    numNonSyn = numNonSyn + 1\n",
    "                    print('i dont get this')\n",
    "            \n",
    "            elif altCodon[0:3] == 'TAA' or altCodon[0:3] == 'TAG' or altCodon[0:3] == 'TGA':\n",
    "                numStop = numStop + 1\n",
    "                \n",
    "    return numSyn, numNonSyn, numStop\n",
    "            "
   ]
  },
  {
   "cell_type": "code",
   "execution_count": 24,
   "metadata": {},
   "outputs": [
    {
     "name": "stderr",
     "output_type": "stream",
     "text": [
      "/usr/local/Cellar/python3/3.6.1/Frameworks/Python.framework/Versions/3.6/lib/python3.6/site-packages/ipykernel_launcher.py:40: RuntimeWarning: invalid value encountered in double_scalars\n",
      "/usr/local/Cellar/python3/3.6.1/Frameworks/Python.framework/Versions/3.6/lib/python3.6/site-packages/Bio/Seq.py:163: BiopythonWarning: Biopython Seq objects now use string comparison. Older versions of Biopython used object comparison. During this transition, please use hash(id(my_seq)) or my_dict[id(my_seq)] if you want the old behaviour, or use hash(str(my_seq)) or my_dict[str(my_seq)] for the new string hashing behaviour.\n",
      "  \"the new string hashing behaviour.\", BiopythonWarning)\n",
      "/usr/local/Cellar/python3/3.6.1/Frameworks/Python.framework/Versions/3.6/lib/python3.6/site-packages/ipykernel_launcher.py:40: RuntimeWarning: divide by zero encountered in double_scalars\n"
     ]
    }
   ],
   "source": [
    "### Generate dataframes with synonymous and non-synonymous SNVs and calculate Dn/Ds.\n",
    "### A dataframe for the whole genome is generated and one for each gene. \n",
    "\n",
    "'''Anchored capsid C: 97 - 438\n",
    "Membrane glycoprotein precursor M: 439 - 936\n",
    "E: 937 - 2421\n",
    "NS1: 2422 - 3477\n",
    "NS2a: 3478 - 4131\n",
    "NS2b: 4132 - 4521\n",
    "NS3: 4522 - 6375\n",
    "NS4a: 6376 - 6756\n",
    "2k: 6757 - 6825\n",
    "NS4b: 6826 - 7569\n",
    "NS5: 7570 - 10269\n",
    "'''\n",
    "\n",
    "dataDir = \"/Users/felix/Documents/arbovirusGenetics/DENV_ZIKV_singelCell/pySamProcessing/vcffilesDENV01\"\n",
    "os.chdir(dataDir)\n",
    "filenames = glob.glob('*.vcf')\n",
    "\n",
    "df_SynNonSynAll = pd.DataFrame(columns=['name', 'ID', 'numSyn', 'numNonSyn', 'numStop', 'Ds', 'Dn', 'Dn_s'])\n",
    "df_SynNonSynC = pd.DataFrame(columns=['ID', 'numSyn', 'numNonSyn', 'numStop', 'Ds', 'Dn', 'Dn_s'])\n",
    "df_SynNonSynM = pd.DataFrame(columns=['ID', 'numSyn', 'numNonSyn', 'numStop', 'Ds', 'Dn', 'Dn_s'])\n",
    "df_SynNonSynE = pd.DataFrame(columns=['ID', 'numSyn', 'numNonSyn', 'numStop', 'Ds', 'Dn', 'Dn_s'])\n",
    "df_SynNonSynNS1 = pd.DataFrame(columns=['ID', 'numSyn', 'numNonSyn', 'numStop', 'Ds', 'Dn', 'Dn_s'])\n",
    "df_SynNonSynNS2a = pd.DataFrame(columns=['ID', 'numSyn', 'numNonSyn', 'numStop', 'Ds', 'Dn', 'Dn_s'])\n",
    "df_SynNonSynNS2b = pd.DataFrame(columns=['ID', 'numSyn', 'numNonSyn', 'numStop', 'Ds', 'Dn', 'Dn_s'])\n",
    "df_SynNonSynNS3 = pd.DataFrame(columns=['ID', 'numSyn', 'numNonSyn', 'numStop', 'Ds', 'Dn', 'Dn_s'])\n",
    "df_SynNonSynNS4a = pd.DataFrame(columns=['ID', 'numSyn', 'numNonSyn', 'numStop', 'Ds', 'Dn', 'Dn_s'])\n",
    "df_SynNonSyn2k = pd.DataFrame(columns=['ID', 'numSyn', 'numNonSyn', 'numStop', 'Ds', 'Dn', 'Dn_s'])\n",
    "df_SynNonSynNS4b = pd.DataFrame(columns=['ID', 'numSyn', 'numNonSyn', 'numStop', 'Ds', 'Dn', 'Dn_s'])\n",
    "df_SynNonSynNS5 = pd.DataFrame(columns=['ID', 'numSyn', 'numNonSyn', 'numStop', 'Ds', 'Dn', 'Dn_s'])\n",
    "\n",
    "for i in filenames:\n",
    "    varFile = VariantFile(i)\n",
    "    vF = varFile.fetch()\n",
    "    numSyn, numNonSyn, numStop = synNonSyn(vF, 97, 10269)\n",
    "    Ds = (-3/4)*np.log(1 - ((4*numSyn/2193.667)/3))\n",
    "    Dn = (-3/4)*np.log(1 - ((4*numNonSyn/7982.333)/3))\n",
    "    Dn_s = Dn / Ds\n",
    "    df_SynNonSynAll = df_SynNonSynAll.append({'name': i[4:-4], 'ID': i, 'numSyn': numSyn, 'numNonSyn': numNonSyn,\\\n",
    "                                        'numStop': numStop, 'Ds': Ds, 'Dn': Dn, 'Dn_s': Dn_s}, ignore_index=True)\n",
    "\n",
    "dfSynAll_C = df_SynNonSynAll.loc[df_SynNonSynAll['numSyn'] > 0]\n",
    "\n",
    "for i in filenames:\n",
    "    varFile = VariantFile(i)\n",
    "    vF = varFile.fetch()\n",
    "    numSyn, numNonSyn, numStop = synNonSyn(vF, 97, 438)\n",
    "    Ds = (-3/4)*np.log(1 - ((4*numSyn/2193.667)/3))\n",
    "    Dn = (-3/4)*np.log(1 - ((4*numNonSyn/7982.333)/3))\n",
    "    Dn_s = Dn / Ds\n",
    "    df_SynNonSynC = df_SynNonSynC.append({'ID': i, 'numSyn': numSyn, 'numNonSyn': numNonSyn,\\\n",
    "                                        'numStop': numStop, 'Ds': Ds, 'Dn': Dn, 'Dn_s': Dn_s}, ignore_index=True)\n",
    "\n",
    "dfSynC_C = df_SynNonSynC.loc[df_SynNonSynC['numSyn'] > 0]\n",
    "\n",
    "for i in filenames:\n",
    "    varFile = VariantFile(i)\n",
    "    vF = varFile.fetch()\n",
    "    numSyn, numNonSyn, numStop = synNonSyn(vF, 439, 936)\n",
    "    Ds = (-3/4)*np.log(1 - ((4*numSyn/2193.667)/3))\n",
    "    Dn = (-3/4)*np.log(1 - ((4*numNonSyn/7982.333)/3))\n",
    "    Dn_s = Dn / Ds\n",
    "    df_SynNonSynM = df_SynNonSynM.append({'ID': i, 'numSyn': numSyn, 'numNonSyn': numNonSyn,\\\n",
    "                                        'numStop': numStop, 'Ds': Ds, 'Dn': Dn, 'Dn_s': Dn_s}, ignore_index=True)\n",
    "\n",
    "dfSynM_C = df_SynNonSynM.loc[df_SynNonSynM['numSyn'] > 0]\n",
    "\n",
    "for i in filenames:\n",
    "    varFile = VariantFile(i)\n",
    "    vF = varFile.fetch()\n",
    "    numSyn, numNonSyn, numStop = synNonSyn(vF, 937, 2421)\n",
    "    Ds = (-3/4)*np.log(1 - ((4*numSyn/2193.667)/3))\n",
    "    Dn = (-3/4)*np.log(1 - ((4*numNonSyn/7982.333)/3))\n",
    "    Dn_s = Dn / Ds\n",
    "    df_SynNonSynE = df_SynNonSynE.append({'ID': i, 'numSyn': numSyn, 'numNonSyn': numNonSyn,\\\n",
    "                                        'numStop': numStop, 'Ds': Ds, 'Dn': Dn, 'Dn_s': Dn_s}, ignore_index=True)\n",
    "\n",
    "dfSynE_C = df_SynNonSynE.loc[df_SynNonSynE['numSyn'] > 0]\n",
    "\n",
    "for i in filenames:\n",
    "    varFile = VariantFile(i)\n",
    "    vF = varFile.fetch()\n",
    "    numSyn, numNonSyn, numStop = synNonSyn(vF, 2422, 3477)\n",
    "    Ds = (-3/4)*np.log(1 - ((4*numSyn/2193.667)/3))\n",
    "    Dn = (-3/4)*np.log(1 - ((4*numNonSyn/7982.333)/3))\n",
    "    Dn_s = Dn / Ds\n",
    "    df_SynNonSynNS1 = df_SynNonSynNS1.append({'ID': i, 'numSyn': numSyn, 'numNonSyn': numNonSyn,\\\n",
    "                                        'numStop': numStop, 'Ds': Ds, 'Dn': Dn, 'Dn_s': Dn_s}, ignore_index=True)\n",
    "\n",
    "dfSynNS1_C = df_SynNonSynNS1.loc[df_SynNonSynNS1['numSyn'] > 0]\n",
    "\n",
    "for i in filenames:\n",
    "    varFile = VariantFile(i)\n",
    "    vF = varFile.fetch()\n",
    "    numSyn, numNonSyn, numStop = synNonSyn(vF, 3478, 4131)\n",
    "    Ds = (-3/4)*np.log(1 - ((4*numSyn/2193.667)/3))\n",
    "    Dn = (-3/4)*np.log(1 - ((4*numNonSyn/7982.333)/3))\n",
    "    Dn_s = Dn / Ds\n",
    "    df_SynNonSynNS2a = df_SynNonSynNS2a.append({'ID': i, 'numSyn': numSyn, 'numNonSyn': numNonSyn,\\\n",
    "                                        'numStop': numStop, 'Ds': Ds, 'Dn': Dn, 'Dn_s': Dn_s}, ignore_index=True)\n",
    "\n",
    "dfSynNS2a_C = df_SynNonSynNS2a.loc[df_SynNonSynNS2a['numSyn'] > 0]\n",
    "\n",
    "for i in filenames:\n",
    "    varFile = VariantFile(i)\n",
    "    vF = varFile.fetch()\n",
    "    numSyn, numNonSyn, numStop = synNonSyn(vF, 4132, 4521)\n",
    "    Ds = (-3/4)*np.log(1 - ((4*numSyn/2193.667)/3))\n",
    "    Dn = (-3/4)*np.log(1 - ((4*numNonSyn/7982.333)/3))\n",
    "    Dn_s = Dn / Ds\n",
    "    df_SynNonSynNS2b = df_SynNonSynNS2b.append({'ID': i, 'numSyn': numSyn, 'numNonSyn': numNonSyn,\\\n",
    "                                        'numStop': numStop, 'Ds': Ds, 'Dn': Dn, 'Dn_s': Dn_s}, ignore_index=True)\n",
    "\n",
    "dfSynNS2b_C = df_SynNonSynNS2b.loc[df_SynNonSynNS2b['numSyn'] > 0]\n",
    "\n",
    "for i in filenames:\n",
    "    varFile = VariantFile(i)\n",
    "    vF = varFile.fetch()\n",
    "    numSyn, numNonSyn, numStop = synNonSyn(vF, 4522, 6375)\n",
    "    Ds = (-3/4)*np.log(1 - ((4*numSyn/2193.667)/3))\n",
    "    Dn = (-3/4)*np.log(1 - ((4*numNonSyn/7982.333)/3))\n",
    "    Dn_s = Dn / Ds\n",
    "    df_SynNonSynNS3 = df_SynNonSynNS3.append({'ID': i, 'numSyn': numSyn, 'numNonSyn': numNonSyn,\\\n",
    "                                        'numStop': numStop, 'Ds': Ds, 'Dn': Dn, 'Dn_s': Dn_s}, ignore_index=True)\n",
    "\n",
    "dfSynNS3_C = df_SynNonSynNS3.loc[df_SynNonSynNS3['numSyn'] > 0]\n",
    "\n",
    "for i in filenames:\n",
    "    varFile = VariantFile(i)\n",
    "    vF = varFile.fetch()\n",
    "    numSyn, numNonSyn, numStop = synNonSyn(vF, 6376, 6756)\n",
    "    Ds = (-3/4)*np.log(1 - ((4*numSyn/2193.667)/3))\n",
    "    Dn = (-3/4)*np.log(1 - ((4*numNonSyn/7982.333)/3))\n",
    "    Dn_s = Dn / Ds\n",
    "    df_SynNonSynNS4a = df_SynNonSynNS4a.append({'ID': i, 'numSyn': numSyn, 'numNonSyn': numNonSyn,\\\n",
    "                                        'numStop': numStop, 'Ds': Ds, 'Dn': Dn, 'Dn_s': Dn_s}, ignore_index=True)\n",
    "\n",
    "dfSynNS4a_C = df_SynNonSynNS4a.loc[df_SynNonSynNS4a['numSyn'] > 0]\n",
    "\n",
    "for i in filenames:\n",
    "    varFile = VariantFile(i)\n",
    "    vF = varFile.fetch()\n",
    "    numSyn, numNonSyn, numStop = synNonSyn(vF, 6757, 6825)\n",
    "    Ds = (-3/4)*np.log(1 - ((4*numSyn/2193.667)/3))\n",
    "    Dn = (-3/4)*np.log(1 - ((4*numNonSyn/7982.333)/3))\n",
    "    Dn_s = Dn / Ds\n",
    "    df_SynNonSyn2k = df_SynNonSyn2k.append({'ID': i, 'numSyn': numSyn, 'numNonSyn': numNonSyn,\\\n",
    "                                        'numStop': numStop, 'Ds': Ds, 'Dn': Dn, 'Dn_s': Dn_s}, ignore_index=True)\n",
    "\n",
    "dfSyn2k_C = df_SynNonSyn2k.loc[df_SynNonSyn2k['numSyn'] > 0]\n",
    "\n",
    "for i in filenames:\n",
    "    varFile = VariantFile(i)\n",
    "    vF = varFile.fetch()\n",
    "    numSyn, numNonSyn, numStop = synNonSyn(vF, 6826, 7569)\n",
    "    Ds = (-3/4)*np.log(1 - ((4*numSyn/2193.667)/3))\n",
    "    Dn = (-3/4)*np.log(1 - ((4*numNonSyn/7982.333)/3))\n",
    "    Dn_s = Dn / Ds\n",
    "    df_SynNonSynNS4b = df_SynNonSynNS4b.append({'ID': i, 'numSyn': numSyn, 'numNonSyn': numNonSyn,\\\n",
    "                                        'numStop': numStop, 'Ds': Ds, 'Dn': Dn, 'Dn_s': Dn_s}, ignore_index=True)\n",
    "\n",
    "dfSynNS4b_C = df_SynNonSynNS4b.loc[df_SynNonSynNS4b['numSyn'] > 0]\n",
    "\n",
    "for i in filenames:\n",
    "    varFile = VariantFile(i)\n",
    "    vF = varFile.fetch()\n",
    "    numSyn, numNonSyn, numStop = synNonSyn(vF, 7570, 10269)\n",
    "    Ds = (-3/4)*np.log(1 - ((4*numSyn/2193.667)/3))\n",
    "    Dn = (-3/4)*np.log(1 - ((4*numNonSyn/7982.333)/3))\n",
    "    Dn_s = Dn / Ds\n",
    "    df_SynNonSynNS5 = df_SynNonSynNS5.append({'ID': i, 'numSyn': numSyn, 'numNonSyn': numNonSyn,\\\n",
    "                                        'numStop': numStop, 'Ds': Ds, 'Dn': Dn, 'Dn_s': Dn_s}, ignore_index=True)\n",
    "\n",
    "dfSynNS5_C = df_SynNonSynNS5.loc[df_SynNonSynNS5['numSyn'] > 0]"
   ]
  },
  {
   "cell_type": "code",
   "execution_count": 25,
   "metadata": {},
   "outputs": [
    {
     "data": {
      "image/png": "[encoded data removed]",
      "text/plain": [
       "<matplotlib.figure.Figure at 0x117e02ba8>"
      ]
     },
     "metadata": {},
     "output_type": "display_data"
    }
   ],
   "source": [
    "_=plt.hist(dfSynAll_C.Dn_s,25)"
   ]
  },
  {
   "cell_type": "code",
   "execution_count": 26,
   "metadata": {},
   "outputs": [
    {
     "data": {
      "image/png": "[encoded data removed]",
      "text/plain": [
       "<matplotlib.figure.Figure at 0x11836f780>"
      ]
     },
     "metadata": {},
     "output_type": "display_data"
    }
   ],
   "source": [
    "fig = plt.figure(figsize=(10, 5), dpi=100)\n",
    "\n",
    "parts = plt.violinplot([dfSynAll_C.Dn_s.values, dfSynC_C.Dn_s.values, dfSynM_C.Dn_s.values, dfSynE_C.Dn_s.values, \\\n",
    "                dfSynNS1_C.Dn_s.values, dfSynNS2a_C.Dn_s.values, dfSynNS2b_C.Dn_s.values, \\\n",
    "                  dfSynNS3_C.Dn_s.values, dfSynNS4a_C.Dn_s.values, dfSyn2k_C.Dn_s.values, \\\n",
    "                  dfSynNS4b_C.Dn_s.values, dfSynNS5_C.Dn_s.values], showextrema=False, showmeans=True)\n",
    "\n",
    "for pc in parts['bodies']:\n",
    "    pc.set_facecolor('#D43F3A')\n",
    "    pc.set_edgecolor('black')\n",
    "    pc.set_alpha(0.9)\n",
    "  \n",
    "_=plt.xticks(range(1,13), ['all', 'C', 'M', 'E', 'NS1','NS2a', 'NS2b', 'NS3','NS4a','2k','NS4b','NS5'])\n",
    "_=plt.ylabel('Dn/Ds')\n",
    "# labels = ['A', 'B', 'C', 'D']\n",
    "# set_axis_style(fig, labels)"
   ]
  },
  {
   "cell_type": "code",
   "execution_count": 8,
   "metadata": {
    "scrolled": true
   },
   "outputs": [
    {
     "data": {
      "text/plain": [
       "3.3000894266524168"
      ]
     },
     "execution_count": 8,
     "metadata": {},
     "output_type": "execute_result"
    }
   ],
   "source": [
    "dfSynAll_C.Dn_s.max()"
   ]
  },
  {
   "cell_type": "code",
   "execution_count": 9,
   "metadata": {},
   "outputs": [
    {
     "data": {
      "text/plain": [
       "ID           vars1001700603_F17.vcf\n",
       "numSyn                            1\n",
       "numNonSyn                        12\n",
       "numStop                           0\n",
       "Ds                      0.000455996\n",
       "Dn                       0.00150483\n",
       "Dn_s                        3.30009\n",
       "Name: 251, dtype: object"
      ]
     },
     "execution_count": 9,
     "metadata": {},
     "output_type": "execute_result"
    }
   ],
   "source": [
    "dfSynAll_C.loc[dfSynAll_C['Dn_s'].idxmax()]"
   ]
  },
  {
   "cell_type": "code",
   "execution_count": 21,
   "metadata": {},
   "outputs": [
    {
     "data": {
      "text/html": [
       "<div>\n",
       "<style>\n",
       "    .dataframe thead tr:only-child th {\n",
       "        text-align: right;\n",
       "    }\n",
       "\n",
       "    .dataframe thead th {\n",
       "        text-align: left;\n",
       "    }\n",
       "\n",
       "    .dataframe tbody tr th {\n",
       "        vertical-align: top;\n",
       "    }\n",
       "</style>\n",
       "<table border=\"1\" class=\"dataframe\">\n",
       "  <thead>\n",
       "    <tr style=\"text-align: right;\">\n",
       "      <th></th>\n",
       "      <th>name</th>\n",
       "      <th>ID</th>\n",
       "      <th>numSyn</th>\n",
       "      <th>numNonSyn</th>\n",
       "      <th>numStop</th>\n",
       "      <th>Ds</th>\n",
       "      <th>Dn</th>\n",
       "      <th>Dn_s</th>\n",
       "    </tr>\n",
       "  </thead>\n",
       "  <tbody>\n",
       "    <tr>\n",
       "      <th>82</th>\n",
       "      <td>1001700602_A6</td>\n",
       "      <td>vars1001700602_A6.vcf</td>\n",
       "      <td>1</td>\n",
       "      <td>0</td>\n",
       "      <td>0</td>\n",
       "      <td>0.000456</td>\n",
       "      <td>-0.000000</td>\n",
       "      <td>-0.000000</td>\n",
       "    </tr>\n",
       "    <tr>\n",
       "      <th>175</th>\n",
       "      <td>1001700602_N16</td>\n",
       "      <td>vars1001700602_N16.vcf</td>\n",
       "      <td>1</td>\n",
       "      <td>0</td>\n",
       "      <td>0</td>\n",
       "      <td>0.000456</td>\n",
       "      <td>-0.000000</td>\n",
       "      <td>-0.000000</td>\n",
       "    </tr>\n",
       "    <tr>\n",
       "      <th>202</th>\n",
       "      <td>1001700603_A16</td>\n",
       "      <td>vars1001700603_A16.vcf</td>\n",
       "      <td>1</td>\n",
       "      <td>3</td>\n",
       "      <td>0</td>\n",
       "      <td>0.000456</td>\n",
       "      <td>0.000376</td>\n",
       "      <td>0.824402</td>\n",
       "    </tr>\n",
       "    <tr>\n",
       "      <th>203</th>\n",
       "      <td>1001700603_A17</td>\n",
       "      <td>vars1001700603_A17.vcf</td>\n",
       "      <td>1</td>\n",
       "      <td>6</td>\n",
       "      <td>0</td>\n",
       "      <td>0.000456</td>\n",
       "      <td>0.000752</td>\n",
       "      <td>1.649217</td>\n",
       "    </tr>\n",
       "    <tr>\n",
       "      <th>204</th>\n",
       "      <td>1001700603_A19</td>\n",
       "      <td>vars1001700603_A19.vcf</td>\n",
       "      <td>4</td>\n",
       "      <td>5</td>\n",
       "      <td>0</td>\n",
       "      <td>0.001826</td>\n",
       "      <td>0.000627</td>\n",
       "      <td>0.343245</td>\n",
       "    </tr>\n",
       "  </tbody>\n",
       "</table>\n",
       "</div>"
      ],
      "text/plain": [
       "               name                      ID numSyn numNonSyn numStop  \\\n",
       "82    1001700602_A6   vars1001700602_A6.vcf      1         0       0   \n",
       "175  1001700602_N16  vars1001700602_N16.vcf      1         0       0   \n",
       "202  1001700603_A16  vars1001700603_A16.vcf      1         3       0   \n",
       "203  1001700603_A17  vars1001700603_A17.vcf      1         6       0   \n",
       "204  1001700603_A19  vars1001700603_A19.vcf      4         5       0   \n",
       "\n",
       "           Ds        Dn      Dn_s  \n",
       "82   0.000456 -0.000000 -0.000000  \n",
       "175  0.000456 -0.000000 -0.000000  \n",
       "202  0.000456  0.000376  0.824402  \n",
       "203  0.000456  0.000752  1.649217  \n",
       "204  0.001826  0.000627  0.343245  "
      ]
     },
     "execution_count": 21,
     "metadata": {},
     "output_type": "execute_result"
    }
   ],
   "source": [
    "dfSynAll_C.head()"
   ]
  },
  {
   "cell_type": "code",
   "execution_count": 22,
   "metadata": {},
   "outputs": [
    {
     "name": "stdout",
     "output_type": "stream",
     "text": [
      "Stored 'dfSynAll_C' (DataFrame)\n"
     ]
    }
   ],
   "source": [
    "%store dfSynAll_C"
   ]
  },
  {
   "cell_type": "code",
   "execution_count": 23,
   "metadata": {},
   "outputs": [
    {
     "data": {
      "text/plain": [
       "505"
      ]
     },
     "execution_count": 23,
     "metadata": {},
     "output_type": "execute_result"
    }
   ],
   "source": [
    "len(dfSynAll_C)"
   ]
  },
  {
   "cell_type": "code",
   "execution_count": null,
   "metadata": {},
   "outputs": [],
   "source": []
  }
 ],
 "metadata": {
  "kernelspec": {
   "display_name": "Python 3",
   "language": "python",
   "name": "python3"
  },
  "language_info": {
   "codemirror_mode": {
    "name": "ipython",
    "version": 3
   },
   "file_extension": ".py",
   "mimetype": "text/x-python",
   "name": "python",
   "nbconvert_exporter": "python",
   "pygments_lexer": "ipython3",
   "version": "3.6.1"
  },
  "varInspector": {
   "cols": {
    "lenName": 16,
    "lenType": 16,
    "lenVar": 40
   },
   "kernels_config": {
    "python": {
     "delete_cmd_postfix": "",
     "delete_cmd_prefix": "del ",
     "library": "var_list.py",
     "varRefreshCmd": "print(var_dic_list())"
    },
    "r": {
     "delete_cmd_postfix": ") ",
     "delete_cmd_prefix": "rm(",
     "library": "var_list.r",
     "varRefreshCmd": "cat(var_dic_list()) "
    }
   },
   "oldHeight": 246,
   "position": {
    "height": "40px",
    "left": "821px",
    "right": "216px",
    "top": "5px",
    "width": "326px"
   },
   "types_to_exclude": [
    "module",
    "function",
    "builtin_function_or_method",
    "instance",
    "_Feature"
   ],
   "varInspector_section_display": "none",
   "window_display": true
  }
 },
 "nbformat": 4,
 "nbformat_minor": 2
}
