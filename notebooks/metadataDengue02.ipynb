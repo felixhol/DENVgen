{
 "cells": [
  {
   "cell_type": "markdown",
   "metadata": {},
   "source": [
    "## Read metadata\n",
    "\n",
    "Metadata file from Zanini et al eLife 2018. Info per cell. "
   ]
  },
  {
   "cell_type": "code",
   "execution_count": 1,
   "metadata": {},
   "outputs": [],
   "source": [
    "from pysam import VariantFile\n",
    "import pandas as pd\n",
    "import matplotlib.pyplot as plt\n",
    "import os\n",
    "import glob\n",
    "import pysam\n",
    "import numpy as np\n",
    "import math"
   ]
  },
  {
   "cell_type": "code",
   "execution_count": 2,
   "metadata": {},
   "outputs": [],
   "source": [
    "file = \"/Users/felix/Documents/arbovirusGenetics/DENV_ZIKV_singelCell/cell_metadata_dengue.tsv\"\n",
    "metadataD = pd.read_csv(file, sep='\\t')\n",
    "metadataD = metadataD.rename(columns ={'qPCR [pmol/mg]': 'qPCR'})"
   ]
  },
  {
   "cell_type": "code",
   "execution_count": 3,
   "metadata": {},
   "outputs": [
    {
     "data": {
      "text/html": [
       "<div>\n",
       "<style>\n",
       "    .dataframe thead tr:only-child th {\n",
       "        text-align: right;\n",
       "    }\n",
       "\n",
       "    .dataframe thead th {\n",
       "        text-align: left;\n",
       "    }\n",
       "\n",
       "    .dataframe tbody tr th {\n",
       "        vertical-align: top;\n",
       "    }\n",
       "</style>\n",
       "<table border=\"1\" class=\"dataframe\">\n",
       "  <thead>\n",
       "    <tr style=\"text-align: right;\">\n",
       "      <th></th>\n",
       "      <th>barcode</th>\n",
       "      <th>name</th>\n",
       "      <th>index</th>\n",
       "      <th>experiment</th>\n",
       "      <th>sequencingInstrument</th>\n",
       "      <th>sequencingRun</th>\n",
       "      <th>sequencingDate</th>\n",
       "      <th>cellType</th>\n",
       "      <th>qPCR</th>\n",
       "      <th>virus</th>\n",
       "      <th>numberDengueReads</th>\n",
       "      <th>numberZikaReads</th>\n",
       "      <th>MOI</th>\n",
       "      <th>time [h]</th>\n",
       "      <th>description</th>\n",
       "    </tr>\n",
       "  </thead>\n",
       "  <tbody>\n",
       "    <tr>\n",
       "      <th>0</th>\n",
       "      <td>Barcode_701-502EX1</td>\n",
       "      <td>1001700601_A2</td>\n",
       "      <td>TAAGGCGA-CTCTATACGT</td>\n",
       "      <td>10017006</td>\n",
       "      <td>NextSeq</td>\n",
       "      <td>N349</td>\n",
       "      <td>2017/01/27</td>\n",
       "      <td>huh7</td>\n",
       "      <td>NaN</td>\n",
       "      <td>dengue</td>\n",
       "      <td>0</td>\n",
       "      <td>NaN</td>\n",
       "      <td>0</td>\n",
       "      <td>4</td>\n",
       "      <td>NaN</td>\n",
       "    </tr>\n",
       "    <tr>\n",
       "      <th>1</th>\n",
       "      <td>Barcode_701-513EX1</td>\n",
       "      <td>1001700601_A4</td>\n",
       "      <td>TAAGGCGA-GACTAGACGT</td>\n",
       "      <td>10017006</td>\n",
       "      <td>NextSeq</td>\n",
       "      <td>N349</td>\n",
       "      <td>2017/01/27</td>\n",
       "      <td>huh7</td>\n",
       "      <td>NaN</td>\n",
       "      <td>dengue</td>\n",
       "      <td>0</td>\n",
       "      <td>NaN</td>\n",
       "      <td>0</td>\n",
       "      <td>4</td>\n",
       "      <td>NaN</td>\n",
       "    </tr>\n",
       "    <tr>\n",
       "      <th>2</th>\n",
       "      <td>Barcode_701-503EX1</td>\n",
       "      <td>1001700601_A6</td>\n",
       "      <td>TAAGGCGA-TCCTCTACGT</td>\n",
       "      <td>10017006</td>\n",
       "      <td>NextSeq</td>\n",
       "      <td>N349</td>\n",
       "      <td>2017/01/27</td>\n",
       "      <td>huh7</td>\n",
       "      <td>NaN</td>\n",
       "      <td>dengue</td>\n",
       "      <td>0</td>\n",
       "      <td>NaN</td>\n",
       "      <td>0</td>\n",
       "      <td>4</td>\n",
       "      <td>NaN</td>\n",
       "    </tr>\n",
       "    <tr>\n",
       "      <th>3</th>\n",
       "      <td>Barcode_701-515EX1</td>\n",
       "      <td>1001700601_A8</td>\n",
       "      <td>TAAGGCGA-CTAGCTACGT</td>\n",
       "      <td>10017006</td>\n",
       "      <td>NextSeq</td>\n",
       "      <td>N349</td>\n",
       "      <td>2017/01/27</td>\n",
       "      <td>huh7</td>\n",
       "      <td>NaN</td>\n",
       "      <td>dengue</td>\n",
       "      <td>0</td>\n",
       "      <td>NaN</td>\n",
       "      <td>0</td>\n",
       "      <td>4</td>\n",
       "      <td>NaN</td>\n",
       "    </tr>\n",
       "    <tr>\n",
       "      <th>4</th>\n",
       "      <td>Barcode_701-505EX1</td>\n",
       "      <td>1001700601_B3</td>\n",
       "      <td>TAAGGCGA-AAGGAGACGT</td>\n",
       "      <td>10017006</td>\n",
       "      <td>NextSeq</td>\n",
       "      <td>N349</td>\n",
       "      <td>2017/01/27</td>\n",
       "      <td>huh7</td>\n",
       "      <td>NaN</td>\n",
       "      <td>dengue</td>\n",
       "      <td>0</td>\n",
       "      <td>NaN</td>\n",
       "      <td>0</td>\n",
       "      <td>4</td>\n",
       "      <td>NaN</td>\n",
       "    </tr>\n",
       "  </tbody>\n",
       "</table>\n",
       "</div>"
      ],
      "text/plain": [
       "              barcode           name                index  experiment  \\\n",
       "0  Barcode_701-502EX1  1001700601_A2  TAAGGCGA-CTCTATACGT    10017006   \n",
       "1  Barcode_701-513EX1  1001700601_A4  TAAGGCGA-GACTAGACGT    10017006   \n",
       "2  Barcode_701-503EX1  1001700601_A6  TAAGGCGA-TCCTCTACGT    10017006   \n",
       "3  Barcode_701-515EX1  1001700601_A8  TAAGGCGA-CTAGCTACGT    10017006   \n",
       "4  Barcode_701-505EX1  1001700601_B3  TAAGGCGA-AAGGAGACGT    10017006   \n",
       "\n",
       "  sequencingInstrument sequencingRun sequencingDate cellType  qPCR   virus  \\\n",
       "0              NextSeq          N349     2017/01/27     huh7   NaN  dengue   \n",
       "1              NextSeq          N349     2017/01/27     huh7   NaN  dengue   \n",
       "2              NextSeq          N349     2017/01/27     huh7   NaN  dengue   \n",
       "3              NextSeq          N349     2017/01/27     huh7   NaN  dengue   \n",
       "4              NextSeq          N349     2017/01/27     huh7   NaN  dengue   \n",
       "\n",
       "   numberDengueReads  numberZikaReads  MOI  time [h]  description  \n",
       "0                  0              NaN    0         4          NaN  \n",
       "1                  0              NaN    0         4          NaN  \n",
       "2                  0              NaN    0         4          NaN  \n",
       "3                  0              NaN    0         4          NaN  \n",
       "4                  0              NaN    0         4          NaN  "
      ]
     },
     "execution_count": 3,
     "metadata": {},
     "output_type": "execute_result"
    }
   ],
   "source": [
    "metadataD.head()"
   ]
  },
  {
   "cell_type": "code",
   "execution_count": 7,
   "metadata": {},
   "outputs": [
    {
     "name": "stdout",
     "output_type": "stream",
     "text": [
      "Stored 'metadataD' (DataFrame)\n"
     ]
    }
   ],
   "source": [
    "%store metadataD"
   ]
  },
  {
   "cell_type": "code",
   "execution_count": null,
   "metadata": {},
   "outputs": [],
   "source": []
  }
 ],
 "metadata": {
  "kernelspec": {
   "display_name": "Python 3",
   "language": "python",
   "name": "python3"
  },
  "language_info": {
   "codemirror_mode": {
    "name": "ipython",
    "version": 3
   },
   "file_extension": ".py",
   "mimetype": "text/x-python",
   "name": "python",
   "nbconvert_exporter": "python",
   "pygments_lexer": "ipython3",
   "version": "3.6.1"
  },
  "varInspector": {
   "cols": {
    "lenName": 16,
    "lenType": 16,
    "lenVar": 40
   },
   "kernels_config": {
    "python": {
     "delete_cmd_postfix": "",
     "delete_cmd_prefix": "del ",
     "library": "var_list.py",
     "varRefreshCmd": "print(var_dic_list())"
    },
    "r": {
     "delete_cmd_postfix": ") ",
     "delete_cmd_prefix": "rm(",
     "library": "var_list.r",
     "varRefreshCmd": "cat(var_dic_list()) "
    }
   },
   "types_to_exclude": [
    "module",
    "function",
    "builtin_function_or_method",
    "instance",
    "_Feature"
   ],
   "window_display": false
  }
 },
 "nbformat": 4,
 "nbformat_minor": 2
}
