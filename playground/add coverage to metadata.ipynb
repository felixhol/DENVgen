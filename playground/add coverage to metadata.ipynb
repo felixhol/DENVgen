{
 "cells": [
  {
   "cell_type": "markdown",
   "metadata": {},
   "source": [
    "# Add coverage to metadata"
   ]
  },
  {
   "cell_type": "code",
   "execution_count": 1,
   "metadata": {},
   "outputs": [],
   "source": [
    "import os\n",
    "import sys\n",
    "import pickle\n",
    "import argparse\n",
    "import numpy as np\n",
    "import pandas as pd\n",
    "import matplotlib as mpl\n",
    "import matplotlib.pyplot as plt\n",
    "import seaborn as sns\n",
    "\n",
    "os.environ['SINGLET_CONFIG_FILENAME'] = 'singlet.yml'\n",
    "sys.path.append('/home/fabio/university/postdoc/singlet')\n",
    "from singlet.dataset import Dataset"
   ]
  },
  {
   "cell_type": "markdown",
   "metadata": {},
   "source": [
    "### Load the data"
   ]
  },
  {
   "cell_type": "code",
   "execution_count": 2,
   "metadata": {},
   "outputs": [],
   "source": [
    "ds = Dataset(\n",
    "        counts_table='dengue',\n",
    "        samplesheet='dengue',\n",
    "        featuresheet='humanGC38',\n",
    "        )\n",
    "cov = ds.samplesheet['coverage'] = ds.counts.sum(axis=0)"
   ]
  },
  {
   "cell_type": "markdown",
   "metadata": {},
   "source": [
    "### Add coverage into info to Felix's pickle\n",
    "This data comes from Felix"
   ]
  },
  {
   "cell_type": "code",
   "execution_count": 3,
   "metadata": {},
   "outputs": [],
   "source": [
    "fn_felix = '../data/metadataD_SNV.pkl'\n",
    "with open(fn_felix, 'rb') as ff:\n",
    "    meta_felix = pickle.load(ff).set_index('name')"
   ]
  },
  {
   "cell_type": "code",
   "execution_count": 4,
   "metadata": {},
   "outputs": [],
   "source": [
    "meta_felix.loc[ds.samplesheet.index, 'coverage'] = cov\n",
    "with open('../data/metadataD_SNV_with_coverage.pkl', 'wb') as ff:\n",
    "    pickle.dump(meta_felix, ff)"
   ]
  },
  {
   "cell_type": "markdown",
   "metadata": {},
   "source": [
    "### Add coverage into eLife metadata"
   ]
  },
  {
   "cell_type": "code",
   "execution_count": 5,
   "metadata": {},
   "outputs": [],
   "source": [
    "fn_elife = '../data/cell_metadata_dengue.tsv'\n",
    "meta_elife = pd.read_csv(fn_elife, sep='\\t', index_col='name')\n",
    "meta_elife['name'] = meta_elife.index\n",
    "meta_elife['coverage'] = cov\n",
    "meta_elife.to_csv('../data/cell_metadata_dengue_with_coverage.tsv', index=False, sep='\\t')"
   ]
  },
  {
   "cell_type": "code",
   "execution_count": null,
   "metadata": {},
   "outputs": [],
   "source": []
  }
 ],
 "metadata": {
  "kernelspec": {
   "display_name": "Python 3",
   "language": "python",
   "name": "python3"
  },
  "language_info": {
   "codemirror_mode": {
    "name": "ipython",
    "version": 3
   },
   "file_extension": ".py",
   "mimetype": "text/x-python",
   "name": "python",
   "nbconvert_exporter": "python",
   "pygments_lexer": "ipython3",
   "version": "3.7.1"
  }
 },
 "nbformat": 4,
 "nbformat_minor": 2
}
